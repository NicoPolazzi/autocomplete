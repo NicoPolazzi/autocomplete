{
  "cells": [
    {
      "cell_type": "markdown",
      "metadata": {
        "id": "view-in-github",
        "colab_type": "text"
      },
      "source": [
        "<a href=\"https://colab.research.google.com/github/NicoPolazzi/autocomplete/blob/feat%2Fmodel/notebooks/train_model.ipynb\" target=\"_parent\"><img src=\"https://colab.research.google.com/assets/colab-badge.svg\" alt=\"Open In Colab\"/></a>"
      ]
    },
    {
      "cell_type": "code",
      "execution_count": null,
      "metadata": {
        "vscode": {
          "languageId": "plaintext"
        },
        "id": "2XDE5PvuhiYK"
      },
      "outputs": [],
      "source": [
        "!pip install transformers datasets torch"
      ]
    },
    {
      "cell_type": "code",
      "execution_count": null,
      "metadata": {
        "vscode": {
          "languageId": "plaintext"
        },
        "id": "KvqUHgoUhiYL"
      },
      "outputs": [],
      "source": [
        "!git clone https://github.com/NicoPolazzi/autocomplete.git\n",
        "%cd autocomplete"
      ]
    },
    {
      "cell_type": "code",
      "source": [
        "#TODO: delete this code cell\n",
        "!git clone -b feat/model --single-branch https://github.com/NicoPolazzi/autocomplete.git\n",
        "%cd autocomplete"
      ],
      "metadata": {
        "id": "6rASWEfnkPhX"
      },
      "execution_count": null,
      "outputs": []
    },
    {
      "cell_type": "code",
      "execution_count": null,
      "metadata": {
        "vscode": {
          "languageId": "plaintext"
        },
        "id": "9qxoCC94hiYM"
      },
      "outputs": [],
      "source": [
        "import sys\n",
        "sys.path.append('.')\n",
        "\n",
        "from src.logger import get_logger\n",
        "from src.dataset import CodeSnippetIterableDataset, new_data_loader\n",
        "from src.model import AutocompleteModel\n",
        "from src.optimization import train_and_evaluate\n",
        "\n",
        "logger = get_logger(__name__)"
      ]
    },
    {
      "cell_type": "code",
      "source": [
        "max_samples = 2000\n",
        "context_length = 50\n",
        "batch_size = 32\n",
        "epochs = 5\n",
        "lr = 1e-3\n",
        "\n",
        "\n",
        "dataset = CodeSnippetIterableDataset(max_samples=max_samples, context_length=context_length)\n",
        "data_loader = new_data_loader(dataset=dataset, batch_size=batch_size)\n",
        "\n",
        "model = AutocompleteModel(output_size=dataset.vocab_size)\n",
        "train_and_evaluate(loader=data_loader, model=model, epochs=epochs, lr=lr)"
      ],
      "metadata": {
        "id": "ZK4l76Pekm9s"
      },
      "execution_count": null,
      "outputs": []
    }
  ],
  "metadata": {
    "language_info": {
      "name": "python"
    },
    "colab": {
      "provenance": [],
      "gpuType": "T4",
      "include_colab_link": true
    },
    "kernelspec": {
      "name": "python3",
      "display_name": "Python 3"
    },
    "accelerator": "GPU"
  },
  "nbformat": 4,
  "nbformat_minor": 0
}