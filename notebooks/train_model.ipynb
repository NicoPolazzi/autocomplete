{
  "cells": [
    {
      "cell_type": "markdown",
      "metadata": {
        "id": "view-in-github",
        "colab_type": "text"
      },
      "source": [
        "<a href=\"https://colab.research.google.com/github/NicoPolazzi/autocomplete/blob/feat%2Fmodel/notebooks/train_model.ipynb\" target=\"_parent\"><img src=\"https://colab.research.google.com/assets/colab-badge.svg\" alt=\"Open In Colab\"/></a>"
      ]
    },
    {
      "cell_type": "code",
      "execution_count": null,
      "metadata": {
        "vscode": {
          "languageId": "plaintext"
        },
        "id": "2XDE5PvuhiYK"
      },
      "outputs": [],
      "source": [
        "!pip install transformers datasets torch"
      ]
    },
    {
      "cell_type": "code",
      "execution_count": null,
      "metadata": {
        "vscode": {
          "languageId": "plaintext"
        },
        "id": "KvqUHgoUhiYL"
      },
      "outputs": [],
      "source": [
        "!git clone https://github.com/NicoPolazzi/autocomplete.git\n",
        "%cd autocomplete"
      ]
    },
    {
      "cell_type": "code",
      "source": [
        "#TODO: delete this code cell\n",
        "!rm -r /content/autocomplete\n",
        "!git clone -b feat/model --single-branch https://github.com/NicoPolazzi/autocomplete.git\n",
        "%cd autocomplete"
      ],
      "metadata": {
        "id": "6rASWEfnkPhX"
      },
      "execution_count": null,
      "outputs": []
    },
    {
      "cell_type": "code",
      "execution_count": null,
      "metadata": {
        "vscode": {
          "languageId": "plaintext"
        },
        "id": "9qxoCC94hiYM"
      },
      "outputs": [],
      "source": [
        "import sys\n",
        "sys.path.append('.')\n",
        "\n",
        "import torch\n",
        "from torch.utils.data import random_split\n",
        "from torch.utils.data import DataLoader\n",
        "\n",
        "from src.dataset import CodeDataset\n",
        "from src.model import CodeAutocompleteModel\n",
        "from src.optimization import train_and_evaluate"
      ]
    },
    {
      "cell_type": "code",
      "source": [
        "device = torch.device('cpu')\n",
        "if torch.cuda.is_available():\n",
        "    device = torch.device('cuda')\n",
        "\n",
        "torch.set_default_device(device)\n",
        "print(f\"Using device = {torch.get_default_device()}\")"
      ],
      "metadata": {
        "id": "LHMNaz9MvKYl"
      },
      "execution_count": null,
      "outputs": []
    },
    {
      "cell_type": "code",
      "source": [
        "dataset = CodeDataset(max_length=128, max_samples=1000)"
      ],
      "metadata": {
        "id": "wnb87o9cmBtQ"
      },
      "execution_count": null,
      "outputs": []
    },
    {
      "cell_type": "code",
      "source": [
        "val_size = int(len(dataset) * 0.2)\n",
        "train_size = len(dataset) - val_size\n",
        "train_dataset, val_dataset = random_split(dataset, [train_size, val_size],\n",
        "                                          generator=torch.Generator(device='cuda').manual_seed(42))\n",
        "\n",
        "print(f\"obtained a train set with {len(train_dataset)} samples and a test set with \\\n",
        "{len(val_dataset)} samples\")"
      ],
      "metadata": {
        "id": "iaVFYA6QRnkc"
      },
      "execution_count": null,
      "outputs": []
    },
    {
      "cell_type": "code",
      "source": [
        "batch_size = 128\n",
        "epochs = 10\n",
        "lr = 1e-3\n",
        "\n",
        "hidden_dimension = 256\n",
        "num_layers = 2\n",
        "vocab_size = len(dataset.vocab)\n",
        "\n",
        "model = CodeAutocompleteModel(vocab_size, hidden_dimension, num_layers)\n",
        "train_and_evaluate(model, train_dataset, val_dataset, epochs, lr)"
      ],
      "metadata": {
        "id": "ZK4l76Pekm9s"
      },
      "execution_count": null,
      "outputs": []
    }
  ],
  "metadata": {
    "language_info": {
      "name": "python"
    },
    "colab": {
      "provenance": [],
      "gpuType": "T4",
      "include_colab_link": true
    },
    "kernelspec": {
      "name": "python3",
      "display_name": "Python 3"
    },
    "accelerator": "GPU"
  },
  "nbformat": 4,
  "nbformat_minor": 0
}